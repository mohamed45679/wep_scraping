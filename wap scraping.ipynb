{
 "cells": [
  {
   "cell_type": "code",
   "execution_count": 1,
   "id": "b039abb2",
   "metadata": {},
   "outputs": [],
   "source": [
    "import requests as re\n",
    "from bs4 import BeautifulSoup\n",
    "import csv\n"
   ]
  },
  {
   "cell_type": "code",
   "execution_count": null,
   "id": "7d2762b7",
   "metadata": {},
   "outputs": [],
   "source": [
    "data=input(\"pleas enter data:\")"
   ]
  },
  {
   "cell_type": "code",
   "execution_count": null,
   "id": "0c2b102e",
   "metadata": {},
   "outputs": [],
   "source": [
    "page=re.get(f\"https://www.yallakora.com/match-center/%D9%85%D8%B1%D9%83%D8%B2-%D8%A7%D9%84%D9%85%D8%A8%D8%A7%D8%B1%D9%8A%D8%A7%D8%AA?date={data}\")"
   ]
  },
  {
   "cell_type": "code",
   "execution_count": 3,
   "id": "bc103a7c",
   "metadata": {},
   "outputs": [],
   "source": [
    "me=[]"
   ]
  },
  {
   "cell_type": "code",
   "execution_count": 4,
   "id": "f2df2d02",
   "metadata": {},
   "outputs": [],
   "source": [
    "def min():\n",
    "    \n",
    "    scr=page.content\n",
    "    soup=BeautifulSoup(scr,\"lxml\")\n",
    "    chomps=soup.find_all(\"div\",{'class':'matchCard'})\n",
    "\n",
    "\n",
    "\n",
    "\n",
    "\n",
    "\n",
    "\n",
    "    def cg(chomps):\n",
    "        \n",
    "        \n",
    "        cc_tit=chomps.find(\"h2\").text.strip()\n",
    "        all=chomps.find_all(\"div\",{\"class\":\"teamsData\"})\n",
    "        num_m=len(all)\n",
    "        \n",
    "    \n",
    "        for i in range(num_m):\n",
    "            \n",
    "        \n",
    "            t1=all[i].find('div',{'class':'teamA'}).text.strip()\n",
    "            t2=all[i].find('div',{'class':'teamB'}).text.strip()\n",
    "            mrs=mrs=all[i].find('div',{'class':'MResult'}).find_all('span',{'class':'score'})\n",
    "            score=f\"{mrs[0].text.strip()}-{mrs[1].text.strip()}\"\n",
    "            time=all[i].find('div',{'class':'MResult'}).find_all('span',{'class':'time'})\n",
    "            timee=f\"{time[0].text.strip()}\"\n",
    "        \n",
    "            me.append({\"name\":cc_tit,\"timeA\":t1,\"timeB\":t2,\"time\":timee,\"score\": score})\n",
    "    \n",
    "    for u in range (len(chomps)):\n",
    "        cg(chomps[u])\n",
    "        \n",
    "    keys=me[0].keys()\n",
    "    with open('kkkbg.csv', \"w\") as f:\n",
    "        \n",
    "            \n",
    "            nn=csv.DictWriter(f,keys)\n",
    "            nn.writeheader()\n",
    "            nn.writerows(me)      \n",
    "min()"
   ]
  },
  {
   "cell_type": "code",
   "execution_count": 106,
   "id": "f3e6d904",
   "metadata": {},
   "outputs": [
    {
     "data": {
      "text/plain": [
       "[{'name': 'كأس الأمم الأفريقية',\n",
       "  'timeA': 'بوركينا فاسو',\n",
       "  'timeB': 'موريتانيا',\n",
       "  'time': '16:00',\n",
       "  'score': '1-0'},\n",
       " {'name': 'كأس الأمم الأفريقية',\n",
       "  'timeA': 'تونس',\n",
       "  'timeB': 'ناميبيا',\n",
       "  'time': '19:00',\n",
       "  'score': '0-1'},\n",
       " {'name': 'كأس الأمم الأفريقية',\n",
       "  'timeA': 'مالي',\n",
       "  'timeB': 'جنوب أفريقيا',\n",
       "  'time': '22:00',\n",
       "  'score': '2-0'},\n",
       " {'name': 'كأس آسيا',\n",
       "  'timeA': 'تايلاند',\n",
       "  'timeB': 'قيرجيزستان',\n",
       "  'time': '16:30',\n",
       "  'score': '2-0'},\n",
       " {'name': 'كأس آسيا',\n",
       "  'timeA': 'السعودية',\n",
       "  'timeB': 'عمان',\n",
       "  'time': '19:30',\n",
       "  'score': '2-1'},\n",
       " {'name': 'كأس رابطة الأندية المحترفة',\n",
       "  'timeA': 'فاركو',\n",
       "  'timeB': 'زد',\n",
       "  'time': '15:00',\n",
       "  'score': '0-2'},\n",
       " {'name': 'كأس رابطة الأندية المحترفة',\n",
       "  'timeA': 'سموحة',\n",
       "  'timeB': 'مودرن فيوتشر',\n",
       "  'time': '17:00',\n",
       "  'score': '0-0'},\n",
       " {'name': 'كأس رابطة الأندية المحترفة',\n",
       "  'timeA': 'طلائع الجيش',\n",
       "  'timeB': 'بيراميدز',\n",
       "  'time': '17:00',\n",
       "  'score': '2-2'},\n",
       " {'name': 'كأس الاتحاد الإنجليزي',\n",
       "  'timeA': 'وولفرهامبتون',\n",
       "  'timeB': 'برينتفورد',\n",
       "  'time': '21:30',\n",
       "  'score': '3-2'},\n",
       " {'name': 'كأس الاتحاد الإنجليزي',\n",
       "  'timeA': 'إيستليج',\n",
       "  'timeB': 'نيوبورت كاونتى',\n",
       "  'time': '21:45',\n",
       "  'score': '1-3'},\n",
       " {'name': 'كأس الاتحاد الإنجليزي',\n",
       "  'timeA': 'بيرمنجهام',\n",
       "  'timeB': 'هال سيتي',\n",
       "  'time': '21:45',\n",
       "  'score': '2-1'},\n",
       " {'name': 'كأس الاتحاد الإنجليزي',\n",
       "  'timeA': 'بولتون واندررز',\n",
       "  'timeB': 'لوتون تاون',\n",
       "  'time': '21:45',\n",
       "  'score': '1-2'},\n",
       " {'name': 'كأس الاتحاد الإنجليزي',\n",
       "  'timeA': 'بريستول سيتي',\n",
       "  'timeB': 'وست هام يونايتد',\n",
       "  'time': '21:45',\n",
       "  'score': '1-0'},\n",
       " {'name': 'كأس ملك أسبانيا',\n",
       "  'timeA': 'خيتافي',\n",
       "  'timeB': 'اشبيلية',\n",
       "  'time': '21:00',\n",
       "  'score': '1-3'},\n",
       " {'name': 'كأس ملك أسبانيا',\n",
       "  'timeA': 'اتليتك بلباو',\n",
       "  'timeB': 'ألافيس',\n",
       "  'time': '22:00',\n",
       "  'score': '2-0'},\n",
       " {'name': 'كأس ملك أسبانيا',\n",
       "  'timeA': 'تينيريفي',\n",
       "  'timeB': 'مايوركا',\n",
       "  'time': '23:00',\n",
       "  'score': '0-1'},\n",
       " {'name': 'الدوري الإيطالي',\n",
       "  'timeA': 'يوفنتوس',\n",
       "  'timeB': 'ساسولو',\n",
       "  'time': '21:45',\n",
       "  'score': '3-0'},\n",
       " {'name': 'دوري القسم الثاني-أ',\n",
       "  'timeA': 'مصر المقاصة',\n",
       "  'timeB': 'أبو قير للاسمدة',\n",
       "  'time': '14:00',\n",
       "  'score': '0-2'}]"
      ]
     },
     "execution_count": 106,
     "metadata": {},
     "output_type": "execute_result"
    }
   ],
   "source": [
    "me"
   ]
  },
  {
   "cell_type": "code",
   "execution_count": null,
   "id": "6b90615d",
   "metadata": {},
   "outputs": [],
   "source": []
  }
 ],
 "metadata": {
  "kernelspec": {
   "display_name": "Python 3 (ipykernel)",
   "language": "python",
   "name": "python3"
  },
  "language_info": {
   "codemirror_mode": {
    "name": "ipython",
    "version": 3
   },
   "file_extension": ".py",
   "mimetype": "text/x-python",
   "name": "python",
   "nbconvert_exporter": "python",
   "pygments_lexer": "ipython3",
   "version": "3.11.5"
  }
 },
 "nbformat": 4,
 "nbformat_minor": 5
}
